{
 "cells": [
  {
   "cell_type": "markdown",
   "metadata": {},
   "source": [
    "# 学习心得\n",
    "- 2021/06/24 "
   ]
  },
  {
   "cell_type": "markdown",
   "metadata": {},
   "source": [
    "## 误差的抑制 &nbsp;\r\n",
    "\r\n",
    "### 1.简化计算步骤，减少运算次数 &nbsp;\r\n",
    "\r\n",
    "$P^{n}=a_{n}x^{n}+a_{n-1}x^{n-1}+...+a_{1}x+a_{0}$ &nbsp;\r\n",
    "\r\n",
    "$a_{k}x^{k}$就需要计算k次乘法，改换为 &nbsp;\r\n",
    "\r\n",
    "$P^{n}=((...(a_{n}x+a_{n-1})x+...a_{1})x)+a_{0}$ &nbsp;\r\n",
    "\r\n"
   ]
  },
  {
   "cell_type": "markdown",
   "metadata": {},
   "source": [
    "### 2.注意小数的作用，防止大数吃掉小数 &nbsp;\r\n"
   ]
  },
  {
   "cell_type": "markdown",
   "metadata": {},
   "source": [
    "### 3.注意相近的数相减 &nbsp;\r\n",
    "\r\n",
    "$\\sqrt{x+\\epsilon}-\\sqrt{x}=\\frac{\\epsilon}{\\sqrt{x+\\epsilon}+\\sqrt{x}}$ &nbsp;\r\n",
    "\r\n",
    "$\\begin{vmatrix} x\\end{vmatrix}$ <<1时， &nbsp;\r\n",
    "\r\n",
    "$1-cosx=2sin^2\\frac{x}{2}$ &nbsp;\r\n",
    "\r\n",
    "$e^x=x(1+1/2x+1/6x^2+...)$ &nbsp;\r\n"
   ]
  },
  {
   "cell_type": "markdown",
   "metadata": {},
   "source": [
    "### 4.注意绝对值很小的除数 &nbsp;\r\n"
   ]
  },
  {
   "cell_type": "markdown",
   "metadata": {},
   "source": [
    "### 5.选用数值稳定性好的方法 &nbsp;\r\n",
    "\r\n",
    "$I_n=\\int ^1_0 \\frac{x^n}{x+5} {\\rm d}x$ &nbsp;\r\n",
    "\r\n",
    "可以 &nbsp;\r\n",
    "\r\n",
    "[1]     $I_n=\\frac{1}{n} -5I_n-_1$递推误差逐步放大5倍 &nbsp;\r\n",
    "\r\n",
    "[2]     $I_n-_1=\\frac{1}{5}(\\frac{1}{n} -I_n)$递推误差逐步减小 &nbsp;"
   ]
  },
  {
   "cell_type": "markdown",
   "metadata": {},
   "source": []
  }
 ],
 "metadata": {
  "interpreter": {
   "hash": "214607ee675729b75ab06c082539d6482fdd6e896a7156b48d64aca08714e5bd"
  },
  "kernelspec": {
   "display_name": "Python 3.7.10 64-bit",
   "name": "python3"
  },
  "language_info": {
   "name": "python",
   "version": ""
  }
 },
 "nbformat": 4,
 "nbformat_minor": 5
}