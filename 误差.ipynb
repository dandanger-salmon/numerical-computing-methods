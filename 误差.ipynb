{
 "cells": [
  {
   "cell_type": "markdown",
   "id": "decent-soviet",
   "metadata": {},
   "source": [
    "# 学习心得\n",
    "- 2021/06/24 "
   ]
  },
  {
   "cell_type": "markdown",
   "id": "adaptive-married",
   "metadata": {},
   "source": [
    "## 误差的抑制\n",
    "\n",
    "\n",
    "### 1.简化计算步骤，减少运算次数 \n",
    "\n",
    "$P^{n}=a_{n}x^{n}+a_{n-1}x^{n-1}+...+a_{1}x+a_{0}$\n",
    "$a_{k}x^{k}$就需要计算k次乘法，改换为\n",
    "$P^{n}=((...(a_{n}x+a_{n-1})x+...a_{1})x)+a_{0}$\n",
    "\n",
    "### 2.注意小数的作用，防止大数吃掉小数\n",
    "\n",
    "\n",
    "### 3.注意相近的数相减\n",
    "\n",
    "$\\sqrt{x+\\epsilon}-\\sqrt{x}=\\frac{\\epsilon}{\\sqrt{x+\\epsilon}+\\sqrt{x}}$\n",
    "$ \\begin{vmatrix} x\\end{vmatrix}$ <<1时，\n",
    "$1-cosx=2sin^2\\frac{x}{2}$\n",
    "$e^x=x(1+1/2x+1/6x^2+...)$\n",
    "\n",
    "### 4.注意绝对值很小的除数\n",
    "\n",
    "\n",
    "### 5.选用数值稳定性好的方法\n",
    "$I_n=\\int ^1_0 \\frac{x^n}{x+5} {\\rm d}x$\n",
    "可以\n",
    "\n",
    "\n",
    "\n",
    "$I_n=\\frac{1}{n} -5I_n-_1$递推误差逐步放大5倍\n",
    "\n",
    "\n",
    "\n",
    "$I_n-_1=\\frac{1}{5}(\\frac{1}{n} -I_n)$递推误差逐步减小"
   ]
  },
  {
   "cell_type": "code",
   "execution_count": null,
   "id": "animated-notion",
   "metadata": {},
   "outputs": [],
   "source": []
  }
 ],
 "metadata": {
  "kernelspec": {
   "display_name": "Python 3",
   "language": "python",
   "name": "python3"
  },
  "language_info": {
   "codemirror_mode": {
    "name": "ipython",
    "version": 3
   },
   "file_extension": ".py",
   "mimetype": "text/x-python",
   "name": "python",
   "nbconvert_exporter": "python",
   "pygments_lexer": "ipython3",
   "version": "3.7.10"
  }
 },
 "nbformat": 4,
 "nbformat_minor": 5
}
